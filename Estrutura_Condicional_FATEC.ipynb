{
  "nbformat": 4,
  "nbformat_minor": 0,
  "metadata": {
    "colab": {
      "provenance": [],
      "toc_visible": true,
      "include_colab_link": true
    },
    "kernelspec": {
      "name": "python3",
      "display_name": "Python 3"
    },
    "language_info": {
      "name": "python"
    }
  },
  "cells": [
    {
      "cell_type": "markdown",
      "metadata": {
        "id": "view-in-github",
        "colab_type": "text"
      },
      "source": [
        "<a href=\"https://colab.research.google.com/github/RafaelMassayoshi/python/blob/main/Estrutura_Condicional_FATEC.ipynb\" target=\"_parent\"><img src=\"https://colab.research.google.com/assets/colab-badge.svg\" alt=\"Open In Colab\"/></a>"
      ]
    },
    {
      "cell_type": "markdown",
      "source": [
        "# **ESTRUTURAS CONDICIONAIS EM PYTHON**"
      ],
      "metadata": {
        "id": "oYtbsCJCIcLe"
      }
    },
    {
      "cell_type": "markdown",
      "source": [
        "# 1. Introdução às Estruturas Condicionais\n",
        "- Conceito e finalidade.\n",
        "- Como as estruturas condicionais permitem a tomada de decisões em um programa\n"
      ],
      "metadata": {
        "id": "1_BuSh45Inx_"
      }
    },
    {
      "cell_type": "markdown",
      "source": [
        "# 2. Sintaxe do if, elif, e else\n",
        "- Estrutura básica:\n"
      ],
      "metadata": {
        "id": "1-H5a9OpItH-"
      }
    },
    {
      "cell_type": "code",
      "source": [
        "n = int(input(\"Digite um numero\"))\n",
        "if n > 0:\n",
        "  print(\"O numero é positivo\")\n",
        "if n < 0:\n",
        "  print(\"O numero é negativo\")\n",
        "if n == 0:\n",
        "  print(\"O numero é igual a zero\")"
      ],
      "metadata": {
        "id": "rp16N6M1I7km",
        "colab": {
          "base_uri": "https://localhost:8080/"
        },
        "outputId": "679f1eb8-315d-4123-93eb-314e4e3551ec"
      },
      "execution_count": 29,
      "outputs": [
        {
          "output_type": "stream",
          "name": "stdout",
          "text": [
            "Digite um numero0\n",
            "O numero é igual a zero\n"
          ]
        }
      ]
    },
    {
      "cell_type": "markdown",
      "source": [
        "- Exemplos práticos"
      ],
      "metadata": {
        "id": "WBnlfo1YI43u"
      }
    },
    {
      "cell_type": "code",
      "execution_count": null,
      "metadata": {
        "id": "5077BjrGISc2"
      },
      "outputs": [],
      "source": []
    },
    {
      "cell_type": "markdown",
      "source": [
        "# 3. Operadores de Comparação e Lógicos\n",
        "- Revisão dos operadores: `==, !=, <, >, <=, >=`.\n",
        "- Revisão dos operadores lógicos: `and, or, not`.\n"
      ],
      "metadata": {
        "id": "qahQSKscJBX9"
      }
    },
    {
      "cell_type": "code",
      "source": [
        "# ..."
      ],
      "metadata": {
        "id": "pw7QvR20JHYn"
      },
      "execution_count": null,
      "outputs": []
    },
    {
      "cell_type": "markdown",
      "source": [
        "# 4. Exemplos Práticos\n",
        "- Exemplo 1: Verificar se um número é par ou ímpar.\n"
      ],
      "metadata": {
        "id": "-4n8_zIpJLJu"
      }
    },
    {
      "cell_type": "code",
      "source": [
        "# ..."
      ],
      "metadata": {
        "id": "2S7TBXN5JN0O"
      },
      "execution_count": null,
      "outputs": []
    },
    {
      "cell_type": "markdown",
      "source": [
        "- Exemplo 2: Verificar se um aluno foi aprovado, reprovado ou se está em recuperação."
      ],
      "metadata": {
        "id": "76ln5wUUJRju"
      }
    },
    {
      "cell_type": "code",
      "source": [
        "# ..."
      ],
      "metadata": {
        "id": "7hOV-f5mJT18"
      },
      "execution_count": null,
      "outputs": []
    },
    {
      "cell_type": "markdown",
      "source": [
        "- Exemplo 3: Identificar se uma pessoa pode votar."
      ],
      "metadata": {
        "id": "VFm8-28wJXuH"
      }
    },
    {
      "cell_type": "code",
      "source": [
        "# ..."
      ],
      "metadata": {
        "id": "39BjBkBzJZzn"
      },
      "execution_count": null,
      "outputs": []
    },
    {
      "cell_type": "markdown",
      "source": [
        "# **Lista de Exercícios:**"
      ],
      "metadata": {
        "id": "OILQbqT6Jg6d"
      }
    },
    {
      "cell_type": "markdown",
      "source": [
        "1.\tCrie um programa que peça ao usuário para inserir um número e verifique se é positivo, negativo ou zero."
      ],
      "metadata": {
        "id": "OhajSa8-Jiwv"
      }
    },
    {
      "cell_type": "code",
      "source": [
        "n = int(input(\"Digite um numero\"))\n",
        "if n > 0:\n",
        "  print(\"O numero é positivo\")\n",
        "if n < 0:\n",
        "  print(\"O numero é negativo\")\n",
        "if n == 0:\n",
        "  print(\"O numero é igual a zero\")"
      ],
      "metadata": {
        "colab": {
          "base_uri": "https://localhost:8080/"
        },
        "id": "6SVDCSKOUdEY",
        "outputId": "8cae4b43-80ca-4b3f-b1ca-15662417dfd1"
      },
      "execution_count": 30,
      "outputs": [
        {
          "output_type": "stream",
          "name": "stdout",
          "text": [
            "Digite um numero2\n",
            "O numero é positivo\n"
          ]
        }
      ]
    },
    {
      "cell_type": "markdown",
      "source": [
        "2.\tEscreva um código que verifique a idade de uma pessoa e imprima se ela é menor de idade, maior de idade ou idosa."
      ],
      "metadata": {
        "id": "MGRULY1uJljH"
      }
    },
    {
      "cell_type": "code",
      "source": [
        "#solicita a idade\n",
        "idade = int(input(\"Informe a sua idade: \"))\n",
        "if idade >= 60:\n",
        "  print(\"Você é idoso\")\n",
        "elif idade >= 18:\n",
        " print(\"Voce é maior de idade\")\n",
        "if idade < 17:\n",
        "  print(\"Voce é menor de idade\")\n"
      ],
      "metadata": {
        "colab": {
          "base_uri": "https://localhost:8080/"
        },
        "id": "XXADmTnyUhYN",
        "outputId": "60c89e30-ad7a-45e1-9d42-89c53638655a"
      },
      "execution_count": 37,
      "outputs": [
        {
          "output_type": "stream",
          "name": "stdout",
          "text": [
            "Informe a sua idade: 30\n",
            "Voce é maior de idade\n"
          ]
        }
      ]
    },
    {
      "cell_type": "markdown",
      "source": [
        "3.\tFaça um programa que peça a nota de um aluno e informe se ele foi aprovado (nota >= 7), de recuperação (5 <= nota < 7) ou reprovado (nota < 5)."
      ],
      "metadata": {
        "id": "hSC1gejzJn-X"
      }
    },
    {
      "cell_type": "code",
      "source": [
        "\n",
        "nota = int(input(\"informe a sua nota: \"))\n",
        "if nota >= 7:\n",
        "  print(\"Voce foi aprovado\")\n",
        "elif nota >= 5:\n",
        " print(\"Voce esta de recuperação\")\n",
        "else:\n",
        "  print(\"voce esta reprovado\")"
      ],
      "metadata": {
        "colab": {
          "base_uri": "https://localhost:8080/"
        },
        "id": "Wtsnr1XuXogZ",
        "outputId": "7681f5fd-310f-4ef7-85c2-4853977a7967"
      },
      "execution_count": 47,
      "outputs": [
        {
          "output_type": "stream",
          "name": "stdout",
          "text": [
            "informe a sua nota: 8\n",
            "Voce foi aprovado\n"
          ]
        }
      ]
    },
    {
      "cell_type": "markdown",
      "source": [
        "4.\tCrie um sistema que determine se uma pessoa pode tirar carteira de motorista (idade mínima de 18 anos)."
      ],
      "metadata": {
        "id": "dLmLWyOrJqzX"
      }
    },
    {
      "cell_type": "code",
      "source": [
        "idade = int(input(\"Informe a sua idade:\"))\n",
        "if idade >= 18:\n",
        "  print(\"Voce pode realizar o exame\")\n",
        "else:\n",
        "  print(\"Voce não pode tirar habilitação\")\n",
        "ex = input(\"voce\")"
      ],
      "metadata": {
        "colab": {
          "base_uri": "https://localhost:8080/",
          "height": 356
        },
        "id": "tDiy2u5NZczU",
        "outputId": "c29e21c5-eaf4-4959-e2be-7f60fafda3a1"
      },
      "execution_count": 61,
      "outputs": [
        {
          "output_type": "error",
          "ename": "KeyboardInterrupt",
          "evalue": "Interrupted by user",
          "traceback": [
            "\u001b[0;31m---------------------------------------------------------------------------\u001b[0m",
            "\u001b[0;31mKeyboardInterrupt\u001b[0m                         Traceback (most recent call last)",
            "\u001b[0;32m<ipython-input-61-3ab35cbb32e7>\u001b[0m in \u001b[0;36m<cell line: 1>\u001b[0;34m()\u001b[0m\n\u001b[0;32m----> 1\u001b[0;31m \u001b[0midade\u001b[0m \u001b[0;34m=\u001b[0m \u001b[0mint\u001b[0m\u001b[0;34m(\u001b[0m\u001b[0minput\u001b[0m\u001b[0;34m(\u001b[0m\u001b[0;34m\"Informe a sua idade:\"\u001b[0m\u001b[0;34m)\u001b[0m\u001b[0;34m)\u001b[0m\u001b[0;34m\u001b[0m\u001b[0;34m\u001b[0m\u001b[0m\n\u001b[0m\u001b[1;32m      2\u001b[0m \u001b[0;32mif\u001b[0m \u001b[0mn\u001b[0m \u001b[0;34m>=\u001b[0m \u001b[0;36m18\u001b[0m\u001b[0;34m:\u001b[0m\u001b[0;34m\u001b[0m\u001b[0;34m\u001b[0m\u001b[0m\n\u001b[1;32m      3\u001b[0m   \u001b[0mprint\u001b[0m\u001b[0;34m(\u001b[0m\u001b[0;34m\"Voce pode realizar o exame\"\u001b[0m\u001b[0;34m)\u001b[0m\u001b[0;34m\u001b[0m\u001b[0;34m\u001b[0m\u001b[0m\n\u001b[1;32m      4\u001b[0m \u001b[0;32melse\u001b[0m\u001b[0;34m:\u001b[0m\u001b[0;34m\u001b[0m\u001b[0;34m\u001b[0m\u001b[0m\n\u001b[1;32m      5\u001b[0m   \u001b[0mprint\u001b[0m\u001b[0;34m(\u001b[0m\u001b[0;34m\"Voce não pode tirar habilitação\"\u001b[0m\u001b[0;34m)\u001b[0m\u001b[0;34m\u001b[0m\u001b[0;34m\u001b[0m\u001b[0m\n",
            "\u001b[0;32m/usr/local/lib/python3.10/dist-packages/ipykernel/kernelbase.py\u001b[0m in \u001b[0;36mraw_input\u001b[0;34m(self, prompt)\u001b[0m\n\u001b[1;32m    849\u001b[0m                 \u001b[0;34m\"raw_input was called, but this frontend does not support input requests.\"\u001b[0m\u001b[0;34m\u001b[0m\u001b[0;34m\u001b[0m\u001b[0m\n\u001b[1;32m    850\u001b[0m             )\n\u001b[0;32m--> 851\u001b[0;31m         return self._input_request(str(prompt),\n\u001b[0m\u001b[1;32m    852\u001b[0m             \u001b[0mself\u001b[0m\u001b[0;34m.\u001b[0m\u001b[0m_parent_ident\u001b[0m\u001b[0;34m,\u001b[0m\u001b[0;34m\u001b[0m\u001b[0;34m\u001b[0m\u001b[0m\n\u001b[1;32m    853\u001b[0m             \u001b[0mself\u001b[0m\u001b[0;34m.\u001b[0m\u001b[0m_parent_header\u001b[0m\u001b[0;34m,\u001b[0m\u001b[0;34m\u001b[0m\u001b[0;34m\u001b[0m\u001b[0m\n",
            "\u001b[0;32m/usr/local/lib/python3.10/dist-packages/ipykernel/kernelbase.py\u001b[0m in \u001b[0;36m_input_request\u001b[0;34m(self, prompt, ident, parent, password)\u001b[0m\n\u001b[1;32m    893\u001b[0m             \u001b[0;32mexcept\u001b[0m \u001b[0mKeyboardInterrupt\u001b[0m\u001b[0;34m:\u001b[0m\u001b[0;34m\u001b[0m\u001b[0;34m\u001b[0m\u001b[0m\n\u001b[1;32m    894\u001b[0m                 \u001b[0;31m# re-raise KeyboardInterrupt, to truncate traceback\u001b[0m\u001b[0;34m\u001b[0m\u001b[0;34m\u001b[0m\u001b[0m\n\u001b[0;32m--> 895\u001b[0;31m                 \u001b[0;32mraise\u001b[0m \u001b[0mKeyboardInterrupt\u001b[0m\u001b[0;34m(\u001b[0m\u001b[0;34m\"Interrupted by user\"\u001b[0m\u001b[0;34m)\u001b[0m \u001b[0;32mfrom\u001b[0m \u001b[0;32mNone\u001b[0m\u001b[0;34m\u001b[0m\u001b[0;34m\u001b[0m\u001b[0m\n\u001b[0m\u001b[1;32m    896\u001b[0m             \u001b[0;32mexcept\u001b[0m \u001b[0mException\u001b[0m \u001b[0;32mas\u001b[0m \u001b[0me\u001b[0m\u001b[0;34m:\u001b[0m\u001b[0;34m\u001b[0m\u001b[0;34m\u001b[0m\u001b[0m\n\u001b[1;32m    897\u001b[0m                 \u001b[0mself\u001b[0m\u001b[0;34m.\u001b[0m\u001b[0mlog\u001b[0m\u001b[0;34m.\u001b[0m\u001b[0mwarning\u001b[0m\u001b[0;34m(\u001b[0m\u001b[0;34m\"Invalid Message:\"\u001b[0m\u001b[0;34m,\u001b[0m \u001b[0mexc_info\u001b[0m\u001b[0;34m=\u001b[0m\u001b[0;32mTrue\u001b[0m\u001b[0;34m)\u001b[0m\u001b[0;34m\u001b[0m\u001b[0;34m\u001b[0m\u001b[0m\n",
            "\u001b[0;31mKeyboardInterrupt\u001b[0m: Interrupted by user"
          ]
        }
      ]
    },
    {
      "cell_type": "markdown",
      "source": [
        "5.\tDesenvolva um programa que verifique se um ano é bissexto."
      ],
      "metadata": {
        "id": "MvuFRPn8Jtoo"
      }
    },
    {
      "cell_type": "markdown",
      "source": [
        "6.\tEscreva um código que peça ao usuário para inserir uma letra e informe se ela é uma vogal ou uma consoante."
      ],
      "metadata": {
        "id": "_jS31FX3JvrG"
      }
    },
    {
      "cell_type": "markdown",
      "source": [
        "7.\tCrie um programa que peça o nome de um mês e informe quantos dias ele tem.\n"
      ],
      "metadata": {
        "id": "O0Wv5NCkJ1Sj"
      }
    },
    {
      "cell_type": "markdown",
      "source": [
        "8.\tDesenvolva um sistema que determine se um número é múltiplo de 3 e 5."
      ],
      "metadata": {
        "id": "EEY-66tcJ3Rc"
      }
    },
    {
      "cell_type": "markdown",
      "source": [
        "9.\tFaça um código que peça ao usuário seu salário e calcule o imposto a ser pago (faixas: até `R$ 1.000`, isento; `R$ 1.001` a `R$ 3.000`, 10%; acima de `R$ 3.000`, 20%)."
      ],
      "metadata": {
        "id": "9Su10vicJ4wq"
      }
    },
    {
      "cell_type": "code",
      "source": [
        "salario = float(input(\"Informe o valor do seu salario: \"))\n",
        "if salario >= 3000:\n",
        "  v20 = salario * 20 / 100\n",
        "  print(\"voce pagara de impostos o equivalente a: \", v20)\n",
        "elif salario >= 1001:\n",
        "  v10 = salario * 10 / 100\n",
        "  print(\"voce pagara de impostos o equivalente a: \", v10)\n",
        "else:\n",
        "  print(\"Voce esta isento de impostos\")"
      ],
      "metadata": {
        "colab": {
          "base_uri": "https://localhost:8080/"
        },
        "id": "bx_X2UN6edAn",
        "outputId": "3ea9f7bd-5bd5-4fe2-bcb4-77bef610bee8"
      },
      "execution_count": 73,
      "outputs": [
        {
          "output_type": "stream",
          "name": "stdout",
          "text": [
            "Informe o valor do seu salario: 1000\n",
            "Voce esta isento de impostos\n"
          ]
        }
      ]
    },
    {
      "cell_type": "markdown",
      "source": [
        "10.\tCrie um programa que pergunte a temperatura em graus Celsius e informe se está frio (abaixo de 15°C), ameno (15°C a 25°C) ou quente (acima de 25°C).\n"
      ],
      "metadata": {
        "id": "p_W20MikJ6iU"
      }
    },
    {
      "cell_type": "markdown",
      "source": [
        "11.\tEscreva um código que determine se um número é primo.\n"
      ],
      "metadata": {
        "id": "luRj3PH1J8F7"
      }
    },
    {
      "cell_type": "code",
      "source": [
        "numero = int(input(\"Informe um numero: \"))\n",
        "if numero / numero =="
      ],
      "metadata": {
        "id": "uWzB__Xhmew5"
      },
      "execution_count": null,
      "outputs": []
    },
    {
      "cell_type": "markdown",
      "source": [
        "12.\tFaça um programa que peça o ano de nascimento e informe a classe de idade (0-12 anos, 13-17 anos, 18-59 anos, 60 anos ou mais).\n"
      ],
      "metadata": {
        "id": "cHgBQKKNJ9YC"
      }
    },
    {
      "cell_type": "markdown",
      "source": [
        "13.\tCrie um sistema que verifique se um triângulo é equilátero, isósceles ou escaleno com base nos comprimentos dos lados."
      ],
      "metadata": {
        "id": "HPQnV-dZJ-mL"
      }
    },
    {
      "cell_type": "markdown",
      "source": [
        "# **DESAFIOS**"
      ],
      "metadata": {
        "id": "KO5c2G87J_ki"
      }
    },
    {
      "cell_type": "markdown",
      "source": [
        "14.\tDesenvolva um programa que peça ao usuário um número e informe a tabela de multiplicação desse número.\n",
        "\n"
      ],
      "metadata": {
        "id": "Tf6ANOFHKCSq"
      }
    },
    {
      "cell_type": "markdown",
      "source": [
        "15.\tEscreva um código que verifique se uma senha é válida (mínimo de 8 caracteres, pelo menos uma letra e um número)."
      ],
      "metadata": {
        "id": "IVM3IesrKFie"
      }
    }
  ]
}